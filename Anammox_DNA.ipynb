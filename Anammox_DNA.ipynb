{
  "nbformat": 4,
  "nbformat_minor": 0,
  "metadata": {
    "colab": {
      "name": "Anammox_DNA.ipynb",
      "provenance": [],
      "authorship_tag": "ABX9TyNeIl1Vjyv+aQWq/1/1Xv1L",
      "include_colab_link": true
    },
    "kernelspec": {
      "name": "python3",
      "display_name": "Python 3"
    },
    "language_info": {
      "name": "python"
    }
  },
  "cells": [
    {
      "cell_type": "markdown",
      "metadata": {
        "id": "view-in-github",
        "colab_type": "text"
      },
      "source": [
        "<a href=\"https://colab.research.google.com/github/AnaPaula0712/AnaPaula0712/blob/main/Anammox_DNA.ipynb\" target=\"_parent\"><img src=\"https://colab.research.google.com/assets/colab-badge.svg\" alt=\"Open In Colab\"/></a>"
      ]
    },
    {
      "cell_type": "markdown",
      "metadata": {
        "id": "OkyOzSjA0UFx"
      },
      "source": [
        "# **Sequência de DNA da clone não cultivável de Anammox (ZENG *et al*., 2011)**"
      ]
    },
    {
      "cell_type": "code",
      "metadata": {
        "id": "Og_RfiiPo0go"
      },
      "source": [
        "#Sequencia - Uncultured planctomycete clone anammox 16S ribosomal RNA gene, partial sequence.\n",
        "anammox1 = \"ttcgcaatgcccgaaagggtgacgaagcgacgccgcgtgtgggaagaaggccttcgggttgtaaaccactgtcgggagttaggaaatgcaggtgcgttaatagcgcacttgcttgactaaggctccagaggaagccacggctaactctgtgccagcagccgcggtaatacagaggcggcaagcgttgttcggaattattgggcgtaaagagcacgtaggcggccttgcaagtcagttgtgaatcccttccgcttaacggaagaacggcatctgatactacagggcttgagtacgggaggggagagtggaacttctggtggagcggtgaaatgcgtagatatcagaaggaacgccggcggcgaaagcgactctctggtccgaaactgacgctgagtgtgcgaaagctaggggagcaaacgggattagataccccggtagtcctagccgtaaacgatgggcactaagtagaggggtttt\""
      ],
      "execution_count": 1,
      "outputs": []
    },
    {
      "cell_type": "code",
      "metadata": {
        "colab": {
          "base_uri": "https://localhost:8080/"
        },
        "id": "bkjivsDUoZiG",
        "outputId": "d0c845f0-062d-433b-a0ae-4829b1a4a938"
      },
      "source": [
        "type(anammox1)"
      ],
      "execution_count": 2,
      "outputs": [
        {
          "output_type": "execute_result",
          "data": {
            "text/plain": [
              "str"
            ]
          },
          "metadata": {},
          "execution_count": 2
        }
      ]
    },
    {
      "cell_type": "code",
      "metadata": {
        "colab": {
          "base_uri": "https://localhost:8080/"
        },
        "id": "N-mSdpf_tOLs",
        "outputId": "8f089cd6-4ed5-4538-873a-0341ce38e31b"
      },
      "source": [
        "len(anammox1)"
      ],
      "execution_count": 3,
      "outputs": [
        {
          "output_type": "execute_result",
          "data": {
            "text/plain": [
              "477"
            ]
          },
          "metadata": {},
          "execution_count": 3
        }
      ]
    },
    {
      "cell_type": "markdown",
      "metadata": {
        "id": "l7kh952V1DRN"
      },
      "source": [
        "# **Sequência de DNA complementar**"
      ]
    },
    {
      "cell_type": "code",
      "metadata": {
        "id": "cp10dl9stqgC"
      },
      "source": [
        "base_complementar = {\"a\" : \"t\",\n",
        "                     \"t\" : \"a\",\n",
        "                     \"c\" : \"g\",\n",
        "                     \"g\" : \"c\"}"
      ],
      "execution_count": 4,
      "outputs": []
    },
    {
      "cell_type": "code",
      "metadata": {
        "id": "I7C1TPNYuxJx"
      },
      "source": [
        "dna_complementar = \"\""
      ],
      "execution_count": 5,
      "outputs": []
    },
    {
      "cell_type": "code",
      "metadata": {
        "id": "WMcITeQsvAvO"
      },
      "source": [
        "for base in anammox1:\n",
        "  dna_complementar += base_complementar[base]"
      ],
      "execution_count": 6,
      "outputs": []
    },
    {
      "cell_type": "code",
      "metadata": {
        "colab": {
          "base_uri": "https://localhost:8080/"
        },
        "id": "h4mQl6A2veaf",
        "outputId": "055c96af-0ae4-4c9e-aded-943b763495bb"
      },
      "source": [
        "print(\"DNA               -> \", anammox1)\n",
        "print(\"DNA complementar -> \", dna_complementar)"
      ],
      "execution_count": 7,
      "outputs": [
        {
          "output_type": "stream",
          "text": [
            "DNA               ->  ttcgcaatgcccgaaagggtgacgaagcgacgccgcgtgtgggaagaaggccttcgggttgtaaaccactgtcgggagttaggaaatgcaggtgcgttaatagcgcacttgcttgactaaggctccagaggaagccacggctaactctgtgccagcagccgcggtaatacagaggcggcaagcgttgttcggaattattgggcgtaaagagcacgtaggcggccttgcaagtcagttgtgaatcccttccgcttaacggaagaacggcatctgatactacagggcttgagtacgggaggggagagtggaacttctggtggagcggtgaaatgcgtagatatcagaaggaacgccggcggcgaaagcgactctctggtccgaaactgacgctgagtgtgcgaaagctaggggagcaaacgggattagataccccggtagtcctagccgtaaacgatgggcactaagtagaggggtttt\n",
            "DNA complementar ->  aagcgttacgggctttcccactgcttcgctgcggcgcacacccttcttccggaagcccaacatttggtgacagccctcaatcctttacgtccacgcaattatcgcgtgaacgaactgattccgaggtctccttcggtgccgattgagacacggtcgtcggcgccattatgtctccgccgttcgcaacaagccttaataacccgcatttctcgtgcatccgccggaacgttcagtcaacacttagggaaggcgaattgccttcttgccgtagactatgatgtcccgaactcatgccctcccctctcaccttgaagaccacctcgccactttacgcatctatagtcttccttgcggccgccgctttcgctgagagaccaggctttgactgcgactcacacgctttcgatcccctcgtttgccctaatctatggggccatcaggatcggcatttgctacccgtgattcatctccccaaaa\n"
          ],
          "name": "stdout"
        }
      ]
    },
    {
      "cell_type": "code",
      "metadata": {
        "colab": {
          "base_uri": "https://localhost:8080/"
        },
        "id": "lsYrR_xawqnK",
        "outputId": "9a6b52ea-16c6-428d-d3a1-8bab4a5bb474"
      },
      "source": [
        "len(anammox1)"
      ],
      "execution_count": 8,
      "outputs": [
        {
          "output_type": "execute_result",
          "data": {
            "text/plain": [
              "477"
            ]
          },
          "metadata": {},
          "execution_count": 8
        }
      ]
    },
    {
      "cell_type": "code",
      "metadata": {
        "colab": {
          "base_uri": "https://localhost:8080/"
        },
        "id": "0kT71suBxgwn",
        "outputId": "79a8e9d4-779e-4153-97ad-d0814a18c1c6"
      },
      "source": [
        "len(dna_complementar)"
      ],
      "execution_count": 9,
      "outputs": [
        {
          "output_type": "execute_result",
          "data": {
            "text/plain": [
              "477"
            ]
          },
          "metadata": {},
          "execution_count": 9
        }
      ]
    },
    {
      "cell_type": "markdown",
      "metadata": {
        "id": "-5nXHQri1Pbm"
      },
      "source": [
        "# **Transcrição de DNA para RNA**"
      ]
    },
    {
      "cell_type": "code",
      "metadata": {
        "id": "pb1pxKib1rN7"
      },
      "source": [
        "base_complementar_rna = {\"a\" : \"u\",\n",
        "                         \"t\" : \"a\",\n",
        "                         \"c\" : \"g\",\n",
        "                         \"g\" : \"c\"}"
      ],
      "execution_count": 10,
      "outputs": []
    },
    {
      "cell_type": "code",
      "metadata": {
        "id": "nCXh9gsR1VTX"
      },
      "source": [
        "rna_complementar = \"\""
      ],
      "execution_count": 11,
      "outputs": []
    },
    {
      "cell_type": "code",
      "metadata": {
        "id": "ODoY02Rb1kAd"
      },
      "source": [
        "for base in anammox1:\n",
        "  rna_complementar += base_complementar_rna[base]"
      ],
      "execution_count": 12,
      "outputs": []
    },
    {
      "cell_type": "code",
      "metadata": {
        "colab": {
          "base_uri": "https://localhost:8080/"
        },
        "id": "f2Sfm0RD2ZA-",
        "outputId": "3517d52e-9691-4371-9c8b-6c95a7042dbc"
      },
      "source": [
        "print(\"DNA              -> \", anammox1)\n",
        "print(\"RNA complementar -> \", rna_complementar)"
      ],
      "execution_count": 13,
      "outputs": [
        {
          "output_type": "stream",
          "text": [
            "DNA              ->  ttcgcaatgcccgaaagggtgacgaagcgacgccgcgtgtgggaagaaggccttcgggttgtaaaccactgtcgggagttaggaaatgcaggtgcgttaatagcgcacttgcttgactaaggctccagaggaagccacggctaactctgtgccagcagccgcggtaatacagaggcggcaagcgttgttcggaattattgggcgtaaagagcacgtaggcggccttgcaagtcagttgtgaatcccttccgcttaacggaagaacggcatctgatactacagggcttgagtacgggaggggagagtggaacttctggtggagcggtgaaatgcgtagatatcagaaggaacgccggcggcgaaagcgactctctggtccgaaactgacgctgagtgtgcgaaagctaggggagcaaacgggattagataccccggtagtcctagccgtaaacgatgggcactaagtagaggggtttt\n",
            "RNA complementar ->  aagcguuacgggcuuucccacugcuucgcugcggcgcacacccuucuuccggaagcccaacauuuggugacagcccucaauccuuuacguccacgcaauuaucgcgugaacgaacugauuccgaggucuccuucggugccgauugagacacggucgucggcgccauuaugucuccgccguucgcaacaagccuuaauaacccgcauuucucgugcauccgccggaacguucagucaacacuuagggaaggcgaauugccuucuugccguagacuaugaugucccgaacucaugcccuccccucucaccuugaagaccaccucgccacuuuacgcaucuauagucuuccuugcggccgccgcuuucgcugagagaccaggcuuugacugcgacucacacgcuuucgauccccucguuugcccuaaucuauggggccaucaggaucggcauuugcuacccgugauucaucuccccaaaa\n"
          ],
          "name": "stdout"
        }
      ]
    },
    {
      "cell_type": "code",
      "metadata": {
        "colab": {
          "base_uri": "https://localhost:8080/"
        },
        "id": "Nh8-xPlg2k-E",
        "outputId": "381d5d22-d6d8-4115-be5e-1bb4c0a81cf3"
      },
      "source": [
        "len(anammox1)"
      ],
      "execution_count": 14,
      "outputs": [
        {
          "output_type": "execute_result",
          "data": {
            "text/plain": [
              "477"
            ]
          },
          "metadata": {},
          "execution_count": 14
        }
      ]
    },
    {
      "cell_type": "code",
      "metadata": {
        "colab": {
          "base_uri": "https://localhost:8080/"
        },
        "id": "475zH3fd2qH1",
        "outputId": "1d275c12-0c80-431d-9240-fbf5d4351198"
      },
      "source": [
        "len(rna_complementar)"
      ],
      "execution_count": 15,
      "outputs": [
        {
          "output_type": "execute_result",
          "data": {
            "text/plain": [
              "477"
            ]
          },
          "metadata": {},
          "execution_count": 15
        }
      ]
    },
    {
      "cell_type": "markdown",
      "metadata": {
        "id": "Z_2ovoqm4Spk"
      },
      "source": [
        "# **Tradução RNA para proteína**"
      ]
    },
    {
      "cell_type": "code",
      "metadata": {
        "id": "qRgfaJ4yK1ng"
      },
      "source": [
        "import re"
      ],
      "execution_count": 16,
      "outputs": []
    },
    {
      "cell_type": "code",
      "metadata": {
        "colab": {
          "base_uri": "https://localhost:8080/",
          "height": 69
        },
        "id": "y3eTp5m9BPj_",
        "outputId": "c8d8130b-38f6-444a-ea5b-0a7fcce4f78a"
      },
      "source": [
        "rna_complementar.upper()"
      ],
      "execution_count": 17,
      "outputs": [
        {
          "output_type": "execute_result",
          "data": {
            "application/vnd.google.colaboratory.intrinsic+json": {
              "type": "string"
            },
            "text/plain": [
              "'AAGCGUUACGGGCUUUCCCACUGCUUCGCUGCGGCGCACACCCUUCUUCCGGAAGCCCAACAUUUGGUGACAGCCCUCAAUCCUUUACGUCCACGCAAUUAUCGCGUGAACGAACUGAUUCCGAGGUCUCCUUCGGUGCCGAUUGAGACACGGUCGUCGGCGCCAUUAUGUCUCCGCCGUUCGCAACAAGCCUUAAUAACCCGCAUUUCUCGUGCAUCCGCCGGAACGUUCAGUCAACACUUAGGGAAGGCGAAUUGCCUUCUUGCCGUAGACUAUGAUGUCCCGAACUCAUGCCCUCCCCUCUCACCUUGAAGACCACCUCGCCACUUUACGCAUCUAUAGUCUUCCUUGCGGCCGCCGCUUUCGCUGAGAGACCAGGCUUUGACUGCGACUCACACGCUUUCGAUCCCCUCGUUUGCCCUAAUCUAUGGGGCCAUCAGGAUCGGCAUUUGCUACCCGUGAUUCAUCUCCCCAAAA'"
            ]
          },
          "metadata": {},
          "execution_count": 17
        }
      ]
    },
    {
      "cell_type": "code",
      "metadata": {
        "id": "NSMKSO5qDYhS"
      },
      "source": [
        "rna_anammox = rna_complementar.upper()"
      ],
      "execution_count": 18,
      "outputs": []
    },
    {
      "cell_type": "code",
      "metadata": {
        "id": "BvtVsFwv4Yy4"
      },
      "source": [
        "#dicionário de código genético = códon:aminoácido\n",
        "codigo_genetico = {\"UUU\": \"F\", \"CUU\": \"L\", \"AUU\": \"I\", \"GUU\": \"V\", \n",
        "                   \"UUC\": \"F\", \"CUC\": \"L\", \"AUC\": \"I\", \"GUC\": \"V\",\n",
        "                   \"UUA\": \"L\", \"CUA\": \"L\", \"AUA\": \"I\", \"GUA\": \"V\",\n",
        "                   \"UUG\": \"L\", \"CUG\": \"L\", \"GGG\": \"G\", \"GUG\": \"V\",\n",
        "                   \"UCU\": \"S\", \"CCU\": \"P\", \"ACU\": \"T\", \"GCU\": \"A\",\n",
        "                   \"UCC\": \"S\", \"CCC\": \"P\", \"ACC\": \"T\", \"GCC\": \"A\",\n",
        "                   \"UCA\": \"S\", \"CCA\": \"P\", \"ACA\": \"T\", \"GCA\": \"A\",\n",
        "                   \"UCG\": \"S\", \"CCG\": \"P\", \"ACG\": \"T\", \"GCG\": \"A\",\n",
        "                   \"UAU\": \"Y\", \"CAU\": \"H\", \"AAU\": \"N\", \"GAU\": \"D\",\n",
        "                   \"UAC\": \"Y\", \"CAC\": \"H\", \"AAC\": \"N\", \"GAC\": \"D\",\n",
        "                   \"CAA\": \"Q\", \"AAA\": \"K\", \"GAA\": \"E\", \"CAG\": \"Q\", \n",
        "                   \"AAG\": \"K\", \"GAG\": \"E\", \"UGU\": \"C\", \"CGU\": \"R\",\n",
        "                   \"AGU\": \"S\", \"GGU\": \"G\", \"UGC\": \"C\", \"CGC\": \"R\", \n",
        "                   \"AGC\": \"S\", \"GGC\": \"G\", \"CGA\": \"R\", \"AGA\": \"R\", \n",
        "                   \"GGA\": \"G\", \"UGG\": \"W\", \"CGG\": \"R\", \"AGG\": \"R\", \n",
        "                   \"AUG\": \"M\", \"UGA\": \"Stop\", \"UAG\": \"Stop\", \"UAA\": \"Stop\"}"
      ],
      "execution_count": 26,
      "outputs": []
    },
    {
      "cell_type": "code",
      "metadata": {
        "id": "qjhlU2G_Jeb0"
      },
      "source": [
        "padrao = re.compile(\"[A][U][G]\")"
      ],
      "execution_count": 19,
      "outputs": []
    },
    {
      "cell_type": "code",
      "metadata": {
        "id": "fulXoJLsLu5s"
      },
      "source": [
        "busca = padrao.search(rna_anammox)"
      ],
      "execution_count": 20,
      "outputs": []
    },
    {
      "cell_type": "code",
      "metadata": {
        "colab": {
          "base_uri": "https://localhost:8080/"
        },
        "id": "p2P7549IL8la",
        "outputId": "c1f63619-aff7-4ae7-e742-6ca0ddea038d"
      },
      "source": [
        "if busca:\n",
        "  codon_iniciador = busca.group()\n",
        "  print(codon_iniciador)"
      ],
      "execution_count": 21,
      "outputs": [
        {
          "output_type": "stream",
          "text": [
            "AUG\n"
          ],
          "name": "stdout"
        }
      ]
    },
    {
      "cell_type": "code",
      "metadata": {
        "colab": {
          "base_uri": "https://localhost:8080/"
        },
        "id": "uD5A8LLjO38m",
        "outputId": "ac5d67ef-d216-4f4b-b3f7-b9a0cfbf2abb"
      },
      "source": [
        "iniciador = rna_anammox.find(\"AUG\")\n",
        "iniciador"
      ],
      "execution_count": 23,
      "outputs": [
        {
          "output_type": "execute_result",
          "data": {
            "text/plain": [
              "167"
            ]
          },
          "metadata": {},
          "execution_count": 23
        }
      ]
    },
    {
      "cell_type": "code",
      "metadata": {
        "id": "p_1EOsEz8s_N"
      },
      "source": [
        "proteina = \"\""
      ],
      "execution_count": 24,
      "outputs": []
    },
    {
      "cell_type": "code",
      "metadata": {
        "id": "14WXID8i9-ml"
      },
      "source": [
        "# percorrer cada códon no RNA, achar o códon de início (AUG) com step=1, só então iniciar a tradução da proteína, adicionar o aminoácido correspondente, \n",
        "#caso não seja um STOP \n",
        "for pos in range(iniciador, len(rna_anammox), 3):\n",
        "  codon = rna_anammox[pos:pos+3]\n",
        "  aminoacido = codigo_genetico[codon]\n",
        "  if aminoacido != \"Stop\":\n",
        "    proteina += aminoacido\n",
        "  else:\n",
        "    break"
      ],
      "execution_count": 27,
      "outputs": []
    },
    {
      "cell_type": "code",
      "metadata": {
        "colab": {
          "base_uri": "https://localhost:8080/"
        },
        "id": "84WqrhIADqOc",
        "outputId": "1ba208c1-4e67-4fce-98ae-0e041ebcdb31"
      },
      "source": [
        "print(proteina)"
      ],
      "execution_count": 28,
      "outputs": [
        {
          "output_type": "stream",
          "text": [
            "MSPPFATSLNNPHFSCIRRNVQSTLREGELPSCRRL\n"
          ],
          "name": "stdout"
        }
      ]
    },
    {
      "cell_type": "code",
      "metadata": {
        "colab": {
          "base_uri": "https://localhost:8080/"
        },
        "id": "duMnG7axQuDI",
        "outputId": "14acb939-3e4c-4e97-d819-af19bc5ea121"
      },
      "source": [
        "len(proteina)"
      ],
      "execution_count": 29,
      "outputs": [
        {
          "output_type": "execute_result",
          "data": {
            "text/plain": [
              "36"
            ]
          },
          "metadata": {},
          "execution_count": 29
        }
      ]
    }
  ]
}